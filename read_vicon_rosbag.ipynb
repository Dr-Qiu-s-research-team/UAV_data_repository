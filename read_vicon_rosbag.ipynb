{
  "nbformat": 4,
  "nbformat_minor": 0,
  "metadata": {
    "colab": {
      "name": "read_vicon_rosbag.ipynb",
      "provenance": [],
      "collapsed_sections": []
    },
    "kernelspec": {
      "name": "python3",
      "display_name": "Python 3"
    },
    "language_info": {
      "name": "python"
    }
  },
  "cells": [
    {
      "cell_type": "code",
      "source": [
        "# install rosbag for python3\n",
        "!pip3 install bagpy"
      ],
      "metadata": {
        "id": "pKexgl0Dd9xk"
      },
      "execution_count": null,
      "outputs": []
    },
    {
      "cell_type": "code",
      "source": [
        "#download bagfile from github\n",
        "!wget https://github.com/Dr-Qiu-s-research-team/UAV_data_repository/raw/main/rosbag/11_17_vicon.bag"
      ],
      "metadata": {
        "id": "Z2LHDEjrfsQU"
      },
      "execution_count": null,
      "outputs": []
    },
    {
      "cell_type": "code",
      "execution_count": null,
      "metadata": {
        "id": "xzlizOfCdQwL"
      },
      "outputs": [],
      "source": [
        "import rosbag\n",
        "import numpy as np\n",
        "from matplotlib import pyplot\n",
        "from mpl_toolkits.mplot3d import Axes3D\n",
        "\n",
        "def plot_env(data):\n",
        "        fig = pyplot.figure()\n",
        "        ax = fig.gca(projection='3d')\n",
        "        ax.set_zlabel('Z', color='k')\n",
        "        ax.set_ylabel('Y', color='k')\n",
        "        ax.set_xlabel('X', color='k')\n",
        "        ax.set_xlim(0, 10)\n",
        "        ax.set_xticks(np.arange(0,10,1))\n",
        "        ax.set_ylim(0, 10)\n",
        "        ax.set_yticks(np.arange(0,10,1))\n",
        "        ax.set_zlim(0, 10)\n",
        "        ax.set_title('Uav path')\n",
        "        ax.legend(loc='lower right')\n",
        "\n",
        "        ax.plot(data[0],data[1],data[2])\n",
        "\n",
        "        ax.view_init(40, -130)\n",
        "        pyplot.show()\n",
        "\n",
        "\n",
        "def main():\n",
        "    bag = rosbag.Bag('/content/11_17_vicon.bag','r')\n",
        "    print(bag,end='\\n\\n')\n",
        "    box = bag.read_messages(topics='/vrpn_client_node/kritt/pose')\n",
        "    x,y,z=[],[],[]\n",
        "    for i in box:\n",
        "        print(i)\n",
        "        break\n",
        "    for i in box:\n",
        "        x.append(i[1].pose.position.x+5)\n",
        "        y.append(i[1].pose.position.y+5)\n",
        "        z.append(i[1].pose.position.z)\n",
        "\n",
        "    plot_env([x,y,z])\n",
        "\n",
        "if __name__ == '__main__':\n",
        "    main()"
      ]
    }
  ]
}