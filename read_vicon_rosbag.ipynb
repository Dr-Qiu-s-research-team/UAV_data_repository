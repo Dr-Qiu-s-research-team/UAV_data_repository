{
  "nbformat": 4,
  "nbformat_minor": 0,
  "metadata": {
    "colab": {
      "name": "read_vicon_rosbag.ipynb",
      "provenance": [],
      "collapsed_sections": []
    },
    "kernelspec": {
      "name": "python3",
      "display_name": "Python 3"
    },
    "language_info": {
      "name": "python"
    }
  },
  "cells": [
    {
      "cell_type": "code",
      "source": [
        "# install rosbag for python3\n",
        "!pip3 install bagpy"
      ],
      "metadata": {
        "colab": {
          "base_uri": "https://localhost:8080/",
          "height": 1000
        },
        "id": "pKexgl0Dd9xk",
        "outputId": "265c7266-1405-41fc-e84c-ac75fd94961c"
      },
      "execution_count": 4,
      "outputs": [
        {
          "output_type": "stream",
          "name": "stdout",
          "text": [
            "Collecting bagpy\n",
            "  Downloading bagpy-0.4.8-py2.py3-none-any.whl (14 kB)\n",
            "Collecting bitstring\n",
            "  Downloading bitstring-3.1.9-py3-none-any.whl (38 kB)\n",
            "Collecting pycryptodomex\n",
            "  Downloading pycryptodomex-3.14.1-cp35-abi3-manylinux2010_x86_64.whl (2.0 MB)\n",
            "\u001b[K     |████████████████████████████████| 2.0 MB 5.7 MB/s \n",
            "\u001b[?25hCollecting rinohtype\n",
            "  Downloading rinohtype-0.5.3-py3-none-any.whl (603 kB)\n",
            "\u001b[K     |████████████████████████████████| 603 kB 43.8 MB/s \n",
            "\u001b[?25hRequirement already satisfied: seaborn>=0.9.0 in /usr/local/lib/python3.7/dist-packages (from bagpy) (0.11.2)\n",
            "Collecting sphinx-markdown-parser\n",
            "  Downloading sphinx_markdown_parser-0.2.4-py2.py3-none-any.whl (19 kB)\n",
            "Collecting pymdown-extensions\n",
            "  Downloading pymdown_extensions-9.3-py3-none-any.whl (216 kB)\n",
            "\u001b[K     |████████████████████████████████| 216 kB 44.7 MB/s \n",
            "\u001b[?25hCollecting pyserial>=3.4\n",
            "  Downloading pyserial-3.5-py2.py3-none-any.whl (90 kB)\n",
            "\u001b[K     |████████████████████████████████| 90 kB 9.2 MB/s \n",
            "\u001b[?25hRequirement already satisfied: pyyaml in /usr/local/lib/python3.7/dist-packages (from bagpy) (3.13)\n",
            "Requirement already satisfied: pathlib in /usr/local/lib/python3.7/dist-packages (from bagpy) (1.0.1)\n",
            "Collecting m2r2\n",
            "  Downloading m2r2-0.3.2-py3-none-any.whl (11 kB)\n",
            "Requirement already satisfied: ipython in /usr/local/lib/python3.7/dist-packages (from bagpy) (5.5.0)\n",
            "Collecting rospkg\n",
            "  Downloading rospkg-1.4.0-py3-none-any.whl (36 kB)\n",
            "Collecting mkdocs\n",
            "  Downloading mkdocs-1.3.0-py3-none-any.whl (3.7 MB)\n",
            "\u001b[K     |████████████████████████████████| 3.7 MB 36.5 MB/s \n",
            "\u001b[?25hCollecting sphinx-bootstrap-theme\n",
            "  Downloading sphinx_bootstrap_theme-0.8.1-py2.py3-none-any.whl (1.2 MB)\n",
            "\u001b[K     |████████████████████████████████| 1.2 MB 44.3 MB/s \n",
            "\u001b[?25hCollecting recommonmark\n",
            "  Downloading recommonmark-0.7.1-py2.py3-none-any.whl (10 kB)\n",
            "Collecting sphinx-rtd-theme\n",
            "  Downloading sphinx_rtd_theme-1.0.0-py2.py3-none-any.whl (2.8 MB)\n",
            "\u001b[K     |████████████████████████████████| 2.8 MB 29.3 MB/s \n",
            "\u001b[?25hRequirement already satisfied: numpy in /usr/local/lib/python3.7/dist-packages (from bagpy) (1.21.5)\n",
            "Collecting py3rosmsgs\n",
            "  Downloading py3rosmsgs-1.18.1-py2.py3-none-any.whl (1.1 MB)\n",
            "\u001b[K     |████████████████████████████████| 1.1 MB 44.7 MB/s \n",
            "\u001b[?25hCollecting Sphinx==3.2.1\n",
            "  Downloading Sphinx-3.2.1-py3-none-any.whl (2.9 MB)\n",
            "\u001b[K     |████████████████████████████████| 2.9 MB 31.5 MB/s \n",
            "\u001b[?25hCollecting sphinx-autodoc-typehints==1.4.0\n",
            "  Downloading sphinx_autodoc_typehints-1.4.0-py3-none-any.whl (6.0 kB)\n",
            "Collecting ytsphinx\n",
            "  Downloading ytsphinx-1.2.1.dev20200430-py2.py3-none-any.whl (3.7 kB)\n",
            "Collecting sphinxcontrib-qthelp\n",
            "  Downloading sphinxcontrib_qthelp-1.0.3-py2.py3-none-any.whl (90 kB)\n",
            "\u001b[K     |████████████████████████████████| 90 kB 9.4 MB/s \n",
            "\u001b[?25hRequirement already satisfied: alabaster<0.8,>=0.7 in /usr/local/lib/python3.7/dist-packages (from Sphinx==3.2.1->bagpy) (0.7.12)\n",
            "Requirement already satisfied: babel>=1.3 in /usr/local/lib/python3.7/dist-packages (from Sphinx==3.2.1->bagpy) (2.9.1)\n",
            "Collecting sphinxcontrib-applehelp\n",
            "  Downloading sphinxcontrib_applehelp-1.0.2-py2.py3-none-any.whl (121 kB)\n",
            "\u001b[K     |████████████████████████████████| 121 kB 44.1 MB/s \n",
            "\u001b[?25hRequirement already satisfied: imagesize in /usr/local/lib/python3.7/dist-packages (from Sphinx==3.2.1->bagpy) (1.3.0)\n",
            "Requirement already satisfied: docutils>=0.12 in /usr/local/lib/python3.7/dist-packages (from Sphinx==3.2.1->bagpy) (0.17.1)\n",
            "Requirement already satisfied: setuptools in /usr/local/lib/python3.7/dist-packages (from Sphinx==3.2.1->bagpy) (57.4.0)\n",
            "Requirement already satisfied: sphinxcontrib-serializinghtml in /usr/local/lib/python3.7/dist-packages (from Sphinx==3.2.1->bagpy) (1.1.5)\n",
            "Requirement already satisfied: snowballstemmer>=1.1 in /usr/local/lib/python3.7/dist-packages (from Sphinx==3.2.1->bagpy) (2.2.0)\n",
            "Requirement already satisfied: requests>=2.5.0 in /usr/local/lib/python3.7/dist-packages (from Sphinx==3.2.1->bagpy) (2.23.0)\n",
            "Requirement already satisfied: Pygments>=2.0 in /usr/local/lib/python3.7/dist-packages (from Sphinx==3.2.1->bagpy) (2.6.1)\n",
            "Collecting sphinxcontrib-htmlhelp\n",
            "  Downloading sphinxcontrib_htmlhelp-2.0.0-py2.py3-none-any.whl (100 kB)\n",
            "\u001b[K     |████████████████████████████████| 100 kB 8.7 MB/s \n",
            "\u001b[?25hRequirement already satisfied: packaging in /usr/local/lib/python3.7/dist-packages (from Sphinx==3.2.1->bagpy) (21.3)\n",
            "Collecting sphinxcontrib-devhelp\n",
            "  Downloading sphinxcontrib_devhelp-1.0.2-py2.py3-none-any.whl (84 kB)\n",
            "\u001b[K     |████████████████████████████████| 84 kB 3.2 MB/s \n",
            "\u001b[?25hCollecting sphinxcontrib-jsmath\n",
            "  Downloading sphinxcontrib_jsmath-1.0.1-py2.py3-none-any.whl (5.1 kB)\n",
            "Requirement already satisfied: Jinja2>=2.3 in /usr/local/lib/python3.7/dist-packages (from Sphinx==3.2.1->bagpy) (2.11.3)\n",
            "Requirement already satisfied: pytz>=2015.7 in /usr/local/lib/python3.7/dist-packages (from babel>=1.3->Sphinx==3.2.1->bagpy) (2018.9)\n",
            "Requirement already satisfied: MarkupSafe>=0.23 in /usr/local/lib/python3.7/dist-packages (from Jinja2>=2.3->Sphinx==3.2.1->bagpy) (2.0.1)\n",
            "Requirement already satisfied: chardet<4,>=3.0.2 in /usr/local/lib/python3.7/dist-packages (from requests>=2.5.0->Sphinx==3.2.1->bagpy) (3.0.4)\n",
            "Requirement already satisfied: urllib3!=1.25.0,!=1.25.1,<1.26,>=1.21.1 in /usr/local/lib/python3.7/dist-packages (from requests>=2.5.0->Sphinx==3.2.1->bagpy) (1.24.3)\n",
            "Requirement already satisfied: certifi>=2017.4.17 in /usr/local/lib/python3.7/dist-packages (from requests>=2.5.0->Sphinx==3.2.1->bagpy) (2021.10.8)\n",
            "Requirement already satisfied: idna<3,>=2.5 in /usr/local/lib/python3.7/dist-packages (from requests>=2.5.0->Sphinx==3.2.1->bagpy) (2.10)\n",
            "Requirement already satisfied: matplotlib>=2.2 in /usr/local/lib/python3.7/dist-packages (from seaborn>=0.9.0->bagpy) (3.2.2)\n",
            "Requirement already satisfied: scipy>=1.0 in /usr/local/lib/python3.7/dist-packages (from seaborn>=0.9.0->bagpy) (1.4.1)\n",
            "Requirement already satisfied: pandas>=0.23 in /usr/local/lib/python3.7/dist-packages (from seaborn>=0.9.0->bagpy) (1.3.5)\n",
            "Requirement already satisfied: kiwisolver>=1.0.1 in /usr/local/lib/python3.7/dist-packages (from matplotlib>=2.2->seaborn>=0.9.0->bagpy) (1.4.0)\n",
            "Requirement already satisfied: pyparsing!=2.0.4,!=2.1.2,!=2.1.6,>=2.0.1 in /usr/local/lib/python3.7/dist-packages (from matplotlib>=2.2->seaborn>=0.9.0->bagpy) (3.0.7)\n",
            "Requirement already satisfied: python-dateutil>=2.1 in /usr/local/lib/python3.7/dist-packages (from matplotlib>=2.2->seaborn>=0.9.0->bagpy) (2.8.2)\n",
            "Requirement already satisfied: cycler>=0.10 in /usr/local/lib/python3.7/dist-packages (from matplotlib>=2.2->seaborn>=0.9.0->bagpy) (0.11.0)\n",
            "Requirement already satisfied: typing-extensions in /usr/local/lib/python3.7/dist-packages (from kiwisolver>=1.0.1->matplotlib>=2.2->seaborn>=0.9.0->bagpy) (3.10.0.2)\n",
            "Requirement already satisfied: six>=1.5 in /usr/local/lib/python3.7/dist-packages (from python-dateutil>=2.1->matplotlib>=2.2->seaborn>=0.9.0->bagpy) (1.15.0)\n",
            "Requirement already satisfied: pexpect in /usr/local/lib/python3.7/dist-packages (from ipython->bagpy) (4.8.0)\n",
            "Requirement already satisfied: pickleshare in /usr/local/lib/python3.7/dist-packages (from ipython->bagpy) (0.7.5)\n",
            "Requirement already satisfied: traitlets>=4.2 in /usr/local/lib/python3.7/dist-packages (from ipython->bagpy) (5.1.1)\n",
            "Requirement already satisfied: prompt-toolkit<2.0.0,>=1.0.4 in /usr/local/lib/python3.7/dist-packages (from ipython->bagpy) (1.0.18)\n",
            "Requirement already satisfied: simplegeneric>0.8 in /usr/local/lib/python3.7/dist-packages (from ipython->bagpy) (0.8.1)\n",
            "Requirement already satisfied: decorator in /usr/local/lib/python3.7/dist-packages (from ipython->bagpy) (4.4.2)\n",
            "Requirement already satisfied: wcwidth in /usr/local/lib/python3.7/dist-packages (from prompt-toolkit<2.0.0,>=1.0.4->ipython->bagpy) (0.2.5)\n",
            "Requirement already satisfied: mistune==0.8.4 in /usr/local/lib/python3.7/dist-packages (from m2r2->bagpy) (0.8.4)\n",
            "Collecting watchdog>=2.0\n",
            "  Downloading watchdog-2.1.7-py3-none-manylinux2014_x86_64.whl (76 kB)\n",
            "\u001b[K     |████████████████████████████████| 76 kB 4.8 MB/s \n",
            "\u001b[?25hRequirement already satisfied: Markdown>=3.2.1 in /usr/local/lib/python3.7/dist-packages (from mkdocs->bagpy) (3.3.6)\n",
            "Collecting mergedeep>=1.3.4\n",
            "  Downloading mergedeep-1.3.4-py3-none-any.whl (6.4 kB)\n",
            "Collecting pyyaml-env-tag>=0.1\n",
            "  Downloading pyyaml_env_tag-0.1-py3-none-any.whl (3.9 kB)\n",
            "Collecting ghp-import>=1.0\n",
            "  Downloading ghp_import-2.0.2-py3-none-any.whl (11 kB)\n",
            "Requirement already satisfied: click>=3.3 in /usr/local/lib/python3.7/dist-packages (from mkdocs->bagpy) (7.1.2)\n",
            "Requirement already satisfied: importlib-metadata>=4.3 in /usr/local/lib/python3.7/dist-packages (from mkdocs->bagpy) (4.11.3)\n",
            "Requirement already satisfied: zipp>=0.5 in /usr/local/lib/python3.7/dist-packages (from importlib-metadata>=4.3->mkdocs->bagpy) (3.7.0)\n",
            "Requirement already satisfied: ptyprocess>=0.5 in /usr/local/lib/python3.7/dist-packages (from pexpect->ipython->bagpy) (0.7.0)\n",
            "Collecting gnupg\n",
            "  Downloading gnupg-2.3.1.tar.gz (100 kB)\n",
            "\u001b[K     |████████████████████████████████| 100 kB 9.7 MB/s \n",
            "\u001b[?25hRequirement already satisfied: psutil>=1.2.1 in /usr/local/lib/python3.7/dist-packages (from gnupg->py3rosmsgs->bagpy) (5.4.8)\n",
            "Collecting commonmark>=0.8.1\n",
            "  Downloading commonmark-0.9.1-py2.py3-none-any.whl (51 kB)\n",
            "\u001b[K     |████████████████████████████████| 51 kB 6.7 MB/s \n",
            "\u001b[?25hCollecting rinoh-typeface-dejavuserif<0.2.0,>=0.1.3\n",
            "  Downloading rinoh_typeface_dejavuserif-0.1.3-py3-none-any.whl (1.7 MB)\n",
            "\u001b[K     |████████████████████████████████| 1.7 MB 35.8 MB/s \n",
            "\u001b[?25hCollecting rinoh-typeface-texgyrecursor<0.2.0,>=0.1.1\n",
            "  Downloading rinoh_typeface_texgyrecursor-0.1.1-py3-none-any.whl (242 kB)\n",
            "\u001b[K     |████████████████████████████████| 242 kB 49.8 MB/s \n",
            "\u001b[?25hCollecting rinoh-typeface-texgyreheros<0.2.0,>=0.1.1\n",
            "  Downloading rinoh_typeface_texgyreheros-0.1.1-py3-none-any.whl (523 kB)\n",
            "\u001b[K     |████████████████████████████████| 523 kB 50.4 MB/s \n",
            "\u001b[?25hCollecting rinoh-typeface-texgyrepagella<0.2.0,>=0.1.1\n",
            "  Downloading rinoh_typeface_texgyrepagella-0.1.1-py3-none-any.whl (321 kB)\n",
            "\u001b[K     |████████████████████████████████| 321 kB 48.7 MB/s \n",
            "\u001b[?25hRequirement already satisfied: appdirs<2.0.0,>=1.4.3 in /usr/local/lib/python3.7/dist-packages (from rinohtype->bagpy) (1.4.4)\n",
            "Collecting catkin-pkg\n",
            "  Downloading catkin_pkg-0.4.24-py3-none-any.whl (75 kB)\n",
            "\u001b[K     |████████████████████████████████| 75 kB 3.2 MB/s \n",
            "\u001b[?25hCollecting pydash>=4.7.5\n",
            "  Downloading pydash-5.1.0-py3-none-any.whl (84 kB)\n",
            "\u001b[K     |████████████████████████████████| 84 kB 3.2 MB/s \n",
            "\u001b[?25hCollecting pyyaml\n",
            "  Downloading PyYAML-6.0-cp37-cp37m-manylinux_2_5_x86_64.manylinux1_x86_64.manylinux_2_12_x86_64.manylinux2010_x86_64.whl (596 kB)\n",
            "\u001b[K     |████████████████████████████████| 596 kB 47.9 MB/s \n",
            "\u001b[?25hCollecting yapf>=0.28.0\n",
            "  Downloading yapf-0.32.0-py2.py3-none-any.whl (190 kB)\n",
            "\u001b[K     |████████████████████████████████| 190 kB 50.8 MB/s \n",
            "\u001b[?25hCollecting unify>=0.5\n",
            "  Downloading unify-0.5.tar.gz (4.4 kB)\n",
            "Collecting untokenize\n",
            "  Downloading untokenize-0.1.1.tar.gz (3.1 kB)\n",
            "Building wheels for collected packages: gnupg, unify, untokenize\n",
            "  Building wheel for gnupg (setup.py) ... \u001b[?25l\u001b[?25hdone\n",
            "  Created wheel for gnupg: filename=gnupg-2.3.1-py3-none-any.whl size=94622 sha256=77a3012b9980c92cce67745477aee91f7cb59d9cf44718158f72ecca1e218dba\n",
            "  Stored in directory: /root/.cache/pip/wheels/e1/48/cd/8ead16471774166e9a4d2eec12c201c91de415a584047a8389\n",
            "  Building wheel for unify (setup.py) ... \u001b[?25l\u001b[?25hdone\n",
            "  Created wheel for unify: filename=unify-0.5-py3-none-any.whl size=5242 sha256=4ba5816db451ad3e3f2819c4ecdb206188ed5a347290baba776ed266c07180f9\n",
            "  Stored in directory: /root/.cache/pip/wheels/72/7c/78/8257d22f369f9b86b080b478a768e678efda6cfadd86b11212\n",
            "  Building wheel for untokenize (setup.py) ... \u001b[?25l\u001b[?25hdone\n",
            "  Created wheel for untokenize: filename=untokenize-0.1.1-py3-none-any.whl size=2888 sha256=c46b8cfd4bd67284eea94061e60d8a142921d6fa372e8ba558fc1599eb434f99\n",
            "  Stored in directory: /root/.cache/pip/wheels/5e/d4/22/3b662355e9a2faa5fe462c17b6fae2e9757066c36cd72c4497\n",
            "Successfully built gnupg unify untokenize\n",
            "Installing collected packages: sphinxcontrib-qthelp, sphinxcontrib-jsmath, sphinxcontrib-htmlhelp, sphinxcontrib-devhelp, sphinxcontrib-applehelp, untokenize, Sphinx, pyyaml, commonmark, yapf, watchdog, unify, rinoh-typeface-texgyrepagella, rinoh-typeface-texgyreheros, rinoh-typeface-texgyrecursor, rinoh-typeface-dejavuserif, recommonmark, pyyaml-env-tag, pyserial, pydash, mergedeep, gnupg, ghp-import, catkin-pkg, ytsphinx, sphinx-rtd-theme, sphinx-markdown-parser, sphinx-bootstrap-theme, sphinx-autodoc-typehints, rospkg, rinohtype, pymdown-extensions, pycryptodomex, py3rosmsgs, mkdocs, m2r2, bitstring, bagpy\n",
            "  Attempting uninstall: Sphinx\n",
            "    Found existing installation: Sphinx 1.8.6\n",
            "    Uninstalling Sphinx-1.8.6:\n",
            "      Successfully uninstalled Sphinx-1.8.6\n",
            "  Attempting uninstall: pyyaml\n",
            "    Found existing installation: PyYAML 3.13\n",
            "    Uninstalling PyYAML-3.13:\n",
            "      Successfully uninstalled PyYAML-3.13\n",
            "\u001b[31mERROR: pip's dependency resolver does not currently take into account all the packages that are installed. This behaviour is the source of the following dependency conflicts.\n",
            "datascience 0.10.6 requires folium==0.2.1, but you have folium 0.8.3 which is incompatible.\u001b[0m\n",
            "Successfully installed Sphinx-3.2.1 bagpy-0.4.8 bitstring-3.1.9 catkin-pkg-0.4.24 commonmark-0.9.1 ghp-import-2.0.2 gnupg-2.3.1 m2r2-0.3.2 mergedeep-1.3.4 mkdocs-1.3.0 py3rosmsgs-1.18.1 pycryptodomex-3.14.1 pydash-5.1.0 pymdown-extensions-9.3 pyserial-3.5 pyyaml-6.0 pyyaml-env-tag-0.1 recommonmark-0.7.1 rinoh-typeface-dejavuserif-0.1.3 rinoh-typeface-texgyrecursor-0.1.1 rinoh-typeface-texgyreheros-0.1.1 rinoh-typeface-texgyrepagella-0.1.1 rinohtype-0.5.3 rospkg-1.4.0 sphinx-autodoc-typehints-1.4.0 sphinx-bootstrap-theme-0.8.1 sphinx-markdown-parser-0.2.4 sphinx-rtd-theme-1.0.0 sphinxcontrib-applehelp-1.0.2 sphinxcontrib-devhelp-1.0.2 sphinxcontrib-htmlhelp-2.0.0 sphinxcontrib-jsmath-1.0.1 sphinxcontrib-qthelp-1.0.3 unify-0.5 untokenize-0.1.1 watchdog-2.1.7 yapf-0.32.0 ytsphinx-1.2.1.dev20200430\n"
          ]
        },
        {
          "output_type": "display_data",
          "data": {
            "application/vnd.colab-display-data+json": {
              "pip_warning": {
                "packages": [
                  "sphinxcontrib"
                ]
              }
            }
          },
          "metadata": {}
        }
      ]
    },
    {
      "cell_type": "code",
      "source": [
        "#download bagfile from github\n",
        "!wget https://github.com/Dr-Qiu-s-research-team/UAV_data_repository/raw/main/rosbag/11_17_vicon.bag"
      ],
      "metadata": {
        "colab": {
          "base_uri": "https://localhost:8080/"
        },
        "id": "Z2LHDEjrfsQU",
        "outputId": "263b80e4-cffc-47b3-fdf2-8c78025008fe"
      },
      "execution_count": 10,
      "outputs": [
        {
          "output_type": "stream",
          "name": "stdout",
          "text": [
            "--2022-04-05 02:17:54--  https://github.com/Dr-Qiu-s-research-team/UAV_data_repository/raw/main/rosbag/11_17_vicon.bag\n",
            "Resolving github.com (github.com)... 52.69.186.44\n",
            "Connecting to github.com (github.com)|52.69.186.44|:443... connected.\n",
            "HTTP request sent, awaiting response... 302 Found\n",
            "Location: https://raw.githubusercontent.com/Dr-Qiu-s-research-team/UAV_data_repository/main/rosbag/11_17_vicon.bag [following]\n",
            "--2022-04-05 02:17:55--  https://raw.githubusercontent.com/Dr-Qiu-s-research-team/UAV_data_repository/main/rosbag/11_17_vicon.bag\n",
            "Resolving raw.githubusercontent.com (raw.githubusercontent.com)... 185.199.108.133, 185.199.109.133, 185.199.110.133, ...\n",
            "Connecting to raw.githubusercontent.com (raw.githubusercontent.com)|185.199.108.133|:443... connected.\n",
            "HTTP request sent, awaiting response... 200 OK\n",
            "Length: 430933 (421K) [application/octet-stream]\n",
            "Saving to: ‘11_17_vicon.bag’\n",
            "\n",
            "11_17_vicon.bag     100%[===================>] 420.83K  --.-KB/s    in 0.04s   \n",
            "\n",
            "2022-04-05 02:17:55 (9.51 MB/s) - ‘11_17_vicon.bag’ saved [430933/430933]\n",
            "\n"
          ]
        }
      ]
    },
    {
      "cell_type": "code",
      "execution_count": 12,
      "metadata": {
        "colab": {
          "base_uri": "https://localhost:8080/",
          "height": 734
        },
        "id": "xzlizOfCdQwL",
        "outputId": "13e4a3ed-24ea-41b7-e3c5-d3702391c32c"
      },
      "outputs": [
        {
          "output_type": "stream",
          "name": "stdout",
          "text": [
            "path:        /content/11_17_vicon.bag\n",
            "version:     2.0\n",
            "duration:    1:48s (108s)\n",
            "start:       Nov 17 2020 17:25:59.71 (1605633959.71)\n",
            "end:         Nov 17 2020 17:27:47.82 (1605634067.82)\n",
            "size:        420.8 KB\n",
            "messages:    3136\n",
            "compression: none [1/1 chunks]\n",
            "types:       geometry_msgs/PoseStamped [d3812c3cbc69362b77dc0b19b345f8f5]\n",
            "topics:      /vrpn_client_node/kritt/pose   3136 msgs @ 33.3 Hz : geometry_msgs/PoseStamped\n",
            "\n",
            "BagMessage(topic='/vrpn_client_node/kritt/pose', message=header: \n",
            "  seq: 64\n",
            "  stamp: \n",
            "    secs: 1605633959\n",
            "    nsecs: 704888605\n",
            "  frame_id: \"world\"\n",
            "pose: \n",
            "  position: \n",
            "    x: -1.9884918395516882\n",
            "    y: -1.1044226868923668\n",
            "    z: 0.260697271557518\n",
            "  orientation: \n",
            "    x: 0.009094763742869516\n",
            "    y: -0.004089459293309756\n",
            "    z: -0.006204545495344299\n",
            "    w: 0.9999310302267583, timestamp=rospy.Time[1605633959705494604])\n"
          ]
        },
        {
          "output_type": "stream",
          "name": "stderr",
          "text": [
            "No handles with labels found to put in legend.\n"
          ]
        },
        {
          "output_type": "display_data",
          "data": {
            "text/plain": [
              "<Figure size 432x288 with 1 Axes>"
            ],
            "image/png": "[encoded data removed]"
          },
          "metadata": {
            "needs_background": "light"
          }
        }
      ],
      "source": [
        "import rosbag\n",
        "import numpy as np\n",
        "from matplotlib import pyplot\n",
        "from mpl_toolkits.mplot3d import Axes3D\n",
        "\n",
        "def plot_env(data):\n",
        "        fig = pyplot.figure()\n",
        "        ax = fig.gca(projection='3d')\n",
        "        ax.set_zlabel('Z', color='k')\n",
        "        ax.set_ylabel('Y', color='k')\n",
        "        ax.set_xlabel('X', color='k')\n",
        "        ax.set_xlim(0, 10)\n",
        "        ax.set_xticks(np.arange(0,10,1))\n",
        "        ax.set_ylim(0, 10)\n",
        "        ax.set_yticks(np.arange(0,10,1))\n",
        "        ax.set_zlim(0, 10)\n",
        "        ax.set_title('Uav path')\n",
        "        ax.legend(loc='lower right')\n",
        "\n",
        "        ax.plot(data[0],data[1],data[2])\n",
        "\n",
        "        ax.view_init(40, -130)\n",
        "        pyplot.show()\n",
        "\n",
        "\n",
        "def main():\n",
        "    bag = rosbag.Bag('/content/11_17_vicon.bag','r')\n",
        "    print(bag,end='\\n\\n')\n",
        "    box = bag.read_messages(topics='/vrpn_client_node/kritt/pose')\n",
        "    x,y,z=[],[],[]\n",
        "    for i in box:\n",
        "        print(i)\n",
        "        break\n",
        "    for i in box:\n",
        "        x.append(i[1].pose.position.x+5)\n",
        "        y.append(i[1].pose.position.y+5)\n",
        "        z.append(i[1].pose.position.z)\n",
        "\n",
        "    plot_env([x,y,z])\n",
        "\n",
        "if __name__ == '__main__':\n",
        "    main()"
      ]
    }
  ]
}